{
  "cells": [
    {
      "cell_type": "code",
      "execution_count": 1,
      "metadata": {
        "colab": {
          "base_uri": "https://localhost:8080/"
        },
        "id": "T1NHk-NrWFPh",
        "outputId": "0a5673d1-4caa-4dd1-e1b9-ce2f3bf92925"
      },
      "outputs": [
        {
          "name": "stdout",
          "output_type": "stream",
          "text": [
            "Requirement already satisfied: beautifulsoup4 in c:\\users\\dell\\appdata\\local\\programs\\python\\python311\\lib\\site-packages (4.11.1)Note: you may need to restart the kernel to use updated packages.\n",
            "\n",
            "Requirement already satisfied: soupsieve>1.2 in c:\\users\\dell\\appdata\\local\\programs\\python\\python311\\lib\\site-packages (from beautifulsoup4) (2.3.2.post1)\n"
          ]
        }
      ],
      "source": [
        "pip install beautifulsoup4"
      ]
    },
    {
      "cell_type": "code",
      "execution_count": 2,
      "metadata": {
        "colab": {
          "base_uri": "https://localhost:8080/"
        },
        "id": "nbcoxN2fWYN9",
        "outputId": "7010c54d-9094-44e6-8c23-b497f7f4e9a8"
      },
      "outputs": [
        {
          "name": "stdout",
          "output_type": "stream",
          "text": [
            "Requirement already satisfied: autoscraper in c:\\users\\dell\\appdata\\local\\programs\\python\\python311\\lib\\site-packages (1.1.14)\n",
            "Requirement already satisfied: requests in c:\\users\\dell\\appdata\\local\\programs\\python\\python311\\lib\\site-packages (from autoscraper) (2.28.1)\n",
            "Requirement already satisfied: bs4 in c:\\users\\dell\\appdata\\local\\programs\\python\\python311\\lib\\site-packages (from autoscraper) (0.0.1)\n",
            "Requirement already satisfied: lxml in c:\\users\\dell\\appdata\\local\\programs\\python\\python311\\lib\\site-packages (from autoscraper) (4.9.2)\n",
            "Requirement already satisfied: beautifulsoup4 in c:\\users\\dell\\appdata\\local\\programs\\python\\python311\\lib\\site-packages (from bs4->autoscraper) (4.11.1)\n",
            "Requirement already satisfied: charset-normalizer<3,>=2 in c:\\users\\dell\\appdata\\local\\programs\\python\\python311\\lib\\site-packages (from requests->autoscraper) (2.1.1)\n",
            "Requirement already satisfied: idna<4,>=2.5 in c:\\users\\dell\\appdata\\local\\programs\\python\\python311\\lib\\site-packages (from requests->autoscraper) (3.4)\n",
            "Requirement already satisfied: urllib3<1.27,>=1.21.1 in c:\\users\\dell\\appdata\\local\\programs\\python\\python311\\lib\\site-packages (from requests->autoscraper) (1.26.13)\n",
            "Requirement already satisfied: certifi>=2017.4.17 in c:\\users\\dell\\appdata\\local\\programs\\python\\python311\\lib\\site-packages (from requests->autoscraper) (2022.12.7)\n",
            "Requirement already satisfied: soupsieve>1.2 in c:\\users\\dell\\appdata\\local\\programs\\python\\python311\\lib\\site-packages (from beautifulsoup4->bs4->autoscraper) (2.3.2.post1)\n"
          ]
        }
      ],
      "source": [
        "!pip install autoscraper\n"
      ]
    },
    {
      "cell_type": "code",
      "execution_count": 3,
      "metadata": {
        "id": "KR68vNjjcQTt"
      },
      "outputs": [],
      "source": [
        "from autoscraper import AutoScraper"
      ]
    },
    {
      "cell_type": "code",
      "execution_count": 4,
      "metadata": {
        "id": "gcJUs56hcTf1"
      },
      "outputs": [],
      "source": [
        "api_url=\"https://rapidapi.com/search/Paid%20api\"\n",
        "\n",
        "wanted_list=[\"https://rapidapi.com/cdn/images?url=https://rapidapi-prod-apis.s3.amazonaws.com/b6e657b9-2c11-4798-8465-b4c8d7e0de13.png\",\"Lecto Translation\",\"Fast Neural Translation. Text/HTML/JSON. Protected keys. Multiple source texts and target languages in a single request. Free Translation API trial with paid plans as low as $0.3 per million characters. 90+ supported languages. For personalized integration support or private plans with higher quotas, contact [support@lecto.ai](mailto:%73%75%70%70%6f%72%74%40%6c%65%63%74%6f%2e%61%69) or via Telegram @lectoai . Also available on our website with attractive Translation API pricing at https://das...\"]"
      ]
    },
    {
      "cell_type": "code",
      "execution_count": 5,
      "metadata": {
        "colab": {
          "base_uri": "https://localhost:8080/"
        },
        "id": "VRA7XWc3dIxG",
        "outputId": "6a8e74c1-19fb-4c2b-8b73-dc922966a244"
      },
      "outputs": [
        {
          "name": "stdout",
          "output_type": "stream",
          "text": [
            "['https://rapidapi.com/cdn/images?url=https://rapidapi-prod-apis.s3.amazonaws.com/b6e657b9-2c11-4798-8465-b4c8d7e0de13.png', 'https://rapidapi.com/cdn/images?url=https://rapidapi-prod-apis.s3.amazonaws.com/c3736925-9c98-4fdc-857e-07c11146afb7.png', 'https://rapidapi.com/cdn/images?url=https://rapidapi-prod-apis.s3.amazonaws.com/c1fb79d1-84ab-43d7-9a0a-93bae7d54122.png', 'https://rapidapi.com/cdn/images?url=https://rapidapi-prod-apis.s3.amazonaws.com/17fe17d3-868d-4fdc-9ae7-1523fa2cb1a6.png', 'https://rapidapi.com/cdn/images?url=https://rapidapi-prod-apis.s3.amazonaws.com/2f2478f3-366e-4cfc-af2a-160fcd359ce0.png', 'https://rapidapi.com/cdn/images?url=https://s3.amazonaws.com/mashape-production-logos/apis/5b900012e4b01c1322c68237_medium', 'https://rapidapi.com/cdn/images?url=https://rapidapi-prod-apis.s3.amazonaws.com/c2a75616-6d6c-4a66-826d-0fbbc2762b92.png', 'https://rapidapi.com/cdn/images?url=https://rapidapi-prod-apis.s3.amazonaws.com/bb/e20cc2091d4963bb075d1dd957d65d/cbd156018162314e428642bcf4d0fd8a.png', 'https://rapidapi.com/cdn/images?url=https://rapidapi-prod-apis.s3.amazonaws.com/58ee5bd0-e893-4539-a764-8fd432e29e0e.png', 'https://rapidapi.com/cdn/images?url=https://rapidapi-prod-apis.s3.amazonaws.com/53afacea-db08-418d-8ce1-28606c8bd5c4.png', 'https://rapidapi.com/cdn/images?url=https://rapidapi-prod-apis.s3.amazonaws.com/bf1840cc-eff8-41c8-94c1-e787ecaaa19a.jpg', 'https://rapidapi.com/cdn/images?url=https://rapidapi-prod-apis.s3.amazonaws.com/a871a4ec-83a7-4b61-a853-60b18cca171b.jpg', 'https://rapidapi.com/cdn/images?url=https://rapidapi-prod-apis.s3.amazonaws.com/86efcf31-d9ed-4e3c-80f4-2449eb032c72.png', 'https://rapidapi.com/cdn/images?url=https://rapidapi-prod-apis.s3.amazonaws.com/1e723a10-7569-4615-b598-5207a758ed67.png', 'https://rapidapi.com/cdn/images?url=https://rapidapi-prod-apis.s3.amazonaws.com/ee76191e-e579-4564-89ee-0a1bbf1c0671.png', 'https://rapidapi.com/cdn/images?url=https://rapidapi-prod-apis.s3.amazonaws.com/de244b5b-800c-43c9-93e1-bc759b4a4d9e.png', 'https://rapidapi.com/cdn/images?url=https://rapidapi-prod-apis.s3.amazonaws.com/00bc3506-a014-48a0-be30-6665c7461fbc.png', 'https://rapidapi.com/cdn/images?url=https://rapidapi-prod-apis.s3.amazonaws.com/e055f8bf-860f-443d-9f5f-451bbadcf6be.png', 'https://rapidapi.com/cdn/images?url=https://rapidapi-prod-apis.s3.amazonaws.com/dd9e053f-de5a-420f-9f54-122ed29cfee6.jpg', 'https://rapidapi.com/cdn/images?url=https://rapidapi-prod-apis.s3.amazonaws.com/976c663f-f16b-40ec-8611-e4a990a1d247.png', 'https://rapidapi.com/cdn/images?url=https://rapidapi-prod-apis.s3.amazonaws.com/28d8dd55-ba56-413f-820b-5f3152664c9f.png', 'https://rapidapi.com/cdn/images?url=https://rapidapi-prod-apis.s3.amazonaws.com/eef64350-3be7-4058-b3ce-c8e0694f4ab2.png', 'https://rapidapi.com/cdn/images?url=https://rapidapi-prod-apis.s3.amazonaws.com/37/c91865a38a44f793c265af618340a0/731f34b730f0ced443598bb6446d12e3.png', 'https://rapidapi.com/cdn/images?url=https://rapidapi-prod-apis.s3.amazonaws.com/21/0bca70db6911e89c70a3a9e1081621/analyticsseo.png', 'Lecto Translation', 'Coinranking', 'ProxyPage', 'Google Search 2', 'StreamlineWatch - Streaming Guide', 'IP Geolocation by ipgeolocation.io', 'CurrencyAPI.net', 'UGPROXY', 'SERPhouse', 'Outsida', 'Fake Identity Generator', 'DataForSEO Search Volume', 'Cash4Life', 'Lucky4Life', 'Domain SEO Analysis', 'HTML (website) to PDF', 'Fast PDF Conversion', 'Free games this month', 'Unity AssetStore', 'Device Limiter', 'ReverbNation Song Downloader', 'Extractor', 'IP Address Tracker - PRO', 'AuthoritasSERPs', 'Fast Neural Translation. Text/HTML/JSON. Protected keys. Multiple source texts and target languages in a single request. Free Translation API trial with paid plans as low as $0.3 per million characters. 90+ supported languages. For personalized integration support or private plans with higher quotas, contact [support@lecto.ai](mailto:%73%75%70%70%6f%72%74%40%6c%65%63%74%6f%2e%61%69) or via Telegram @lectoai . Also available on our website with attractive Translation API pricing at https://das...', 'A simple API for Cryptocurrency Prices - 28k+ users - Real-Time & Historical - Crypto Market Data - Coins - Exchanges - Free & Paid', 'Get high quality proxies for free, proxy list with your filters', 'Serpdog(https://serpdog.io) is a Google Search API that allows you to access Google Search Results in real-time. It solves the problem of proxies and captchas for a smooth scraping journey. Serpdog supports results in both HTML and JSON format.\\nGet your free trial by registering at https://api.serpdog.io', \"StreamlineWatch's streaming guide APIs for Movies and Shows\", 'IP Geolocation API allows developers to get geolocation information for a given IP address. Data points returned by this GeoIP API include city, state, province, country, continent, latitude, longitude, region, timezone, current time, organization, ISP, local currency, and country flags. This IP Location API can be used for content personalization, geotargeting, geofencing, ad targeting, digital rights management, form auto-completion, etc. With the free plan, you can make 15,000 IP lookup API calls per month. Paid plans are starting from $15 per month.', 'Real-time currency conversion on 152 currencies and cryptos', \"UGPROXY Service | Proxy List - Residential Proxy - Rotating IP's Proxy Service\", 'Google, Bing and Yahoo realtime SERP API', 'Outsida provides a convenient API that show events happening in and around your city. You can now query events, venues, query for particular events or venues by name or id.', 'The most complete and cheap Fake Identity Generation API', 'DataForSEO Search Volume API provides keyword data based on Google AdWords.', 'Do you want to get paid for the rest of your life? This is your game! Introducing the latest winning numbers and the best statistics!', 'Do you want to get paid for the rest of your life? This is your game! Introducing the lastest winning numbers and the best statistics!', \"Bishopi's advanced and real-time proprietary SEO metrics for domain names investors, keywords research and SEO professionals. - More on Bishopi.io\", 'This API allows developers to easily convert webpages to high-quality PDFs. By sending a GET request to the API endpoint with the URL of the webpage, users can quickly and easily generate a PDF of the webpage in question. The API also allows for customization of the size of the generated PDF by passing width and height parameters in the query string. Additionally, the API sets the downloaded filename as the title of the website, providing a convenient and easily identifiable file.', 'Fastest Word DOCX to PDF conversion tool (+30 more formats)! Try for free now!', 'Get access to a curated list of games that gaming platforms are giving away periodically (PlayStation, Epic Games Store, Xbox, Prime Gaming, etc)', 'Get all details of assets, get top 100 assets free, paid and new.', 'The service keeps track of devices used by the users of your app (mobile or web) and allows you to limit the usage by each user to a small number of devices (default 5). This limitation can help reduce credential sharing on paid services.', 'Get ReverbNation data of any paid song(s) with download URLs', 'Extract clean text and metadata from thousands of articles. Stop handling local libraries and let Extractor API take care of IP rotation, JavaScript rendering, retries and other headaches.Use the API or our online tool. Sign up now and get 1,000 requests free. Sign up here: https://extractorapi.com/extractor-api-pricing/', 'This is a paid service that will get you the ip geographical location information of your user. Just simply call the API for a pacific ip address and you will get the following information about your user: country, state, city, zip code, longitude, latitude, and timezone', 'Get keyword rankings, PPC data, and search engine rankings.']\n"
          ]
        }
      ],
      "source": [
        "scraper=AutoScraper()\n",
        "result=scraper.build(api_url,wanted_list)\n",
        "print(result)"
      ]
    },
    {
      "cell_type": "code",
      "execution_count": 6,
      "metadata": {
        "id": "I2t6eODndp6Z"
      },
      "outputs": [
        {
          "name": "stdout",
          "output_type": "stream",
          "text": [
            "{'rule_q41y': ['https://rapidapi.com/cdn/images?url=https://rapidapi-prod-apis.s3.amazonaws.com/b6e657b9-2c11-4798-8465-b4c8d7e0de13.png', 'https://rapidapi.com/cdn/images?url=https://rapidapi-prod-apis.s3.amazonaws.com/c3736925-9c98-4fdc-857e-07c11146afb7.png', 'https://rapidapi.com/cdn/images?url=https://rapidapi-prod-apis.s3.amazonaws.com/c1fb79d1-84ab-43d7-9a0a-93bae7d54122.png', 'https://rapidapi.com/cdn/images?url=https://rapidapi-prod-apis.s3.amazonaws.com/17fe17d3-868d-4fdc-9ae7-1523fa2cb1a6.png', 'https://rapidapi.com/cdn/images?url=https://rapidapi-prod-apis.s3.amazonaws.com/2f2478f3-366e-4cfc-af2a-160fcd359ce0.png', 'https://rapidapi.com/cdn/images?url=https://s3.amazonaws.com/mashape-production-logos/apis/5b900012e4b01c1322c68237_medium', 'https://rapidapi.com/cdn/images?url=https://rapidapi-prod-apis.s3.amazonaws.com/c2a75616-6d6c-4a66-826d-0fbbc2762b92.png', 'https://rapidapi.com/cdn/images?url=https://rapidapi-prod-apis.s3.amazonaws.com/bb/e20cc2091d4963bb075d1dd957d65d/cbd156018162314e428642bcf4d0fd8a.png', 'https://rapidapi.com/cdn/images?url=https://rapidapi-prod-apis.s3.amazonaws.com/58ee5bd0-e893-4539-a764-8fd432e29e0e.png', 'https://rapidapi.com/cdn/images?url=https://rapidapi-prod-apis.s3.amazonaws.com/53afacea-db08-418d-8ce1-28606c8bd5c4.png', 'https://rapidapi.com/cdn/images?url=https://rapidapi-prod-apis.s3.amazonaws.com/bf1840cc-eff8-41c8-94c1-e787ecaaa19a.jpg', 'https://rapidapi.com/cdn/images?url=https://rapidapi-prod-apis.s3.amazonaws.com/a871a4ec-83a7-4b61-a853-60b18cca171b.jpg', 'https://rapidapi.com/cdn/images?url=https://rapidapi-prod-apis.s3.amazonaws.com/86efcf31-d9ed-4e3c-80f4-2449eb032c72.png', 'https://rapidapi.com/cdn/images?url=https://rapidapi-prod-apis.s3.amazonaws.com/1e723a10-7569-4615-b598-5207a758ed67.png', 'https://rapidapi.com/cdn/images?url=https://rapidapi-prod-apis.s3.amazonaws.com/ee76191e-e579-4564-89ee-0a1bbf1c0671.png', 'https://rapidapi.com/cdn/images?url=https://rapidapi-prod-apis.s3.amazonaws.com/de244b5b-800c-43c9-93e1-bc759b4a4d9e.png', 'https://rapidapi.com/cdn/images?url=https://rapidapi-prod-apis.s3.amazonaws.com/00bc3506-a014-48a0-be30-6665c7461fbc.png', 'https://rapidapi.com/cdn/images?url=https://rapidapi-prod-apis.s3.amazonaws.com/e055f8bf-860f-443d-9f5f-451bbadcf6be.png', 'https://rapidapi.com/cdn/images?url=https://rapidapi-prod-apis.s3.amazonaws.com/dd9e053f-de5a-420f-9f54-122ed29cfee6.jpg', 'https://rapidapi.com/cdn/images?url=https://rapidapi-prod-apis.s3.amazonaws.com/976c663f-f16b-40ec-8611-e4a990a1d247.png', 'https://rapidapi.com/cdn/images?url=https://rapidapi-prod-apis.s3.amazonaws.com/28d8dd55-ba56-413f-820b-5f3152664c9f.png', 'https://rapidapi.com/cdn/images?url=https://rapidapi-prod-apis.s3.amazonaws.com/eef64350-3be7-4058-b3ce-c8e0694f4ab2.png', 'https://rapidapi.com/cdn/images?url=https://rapidapi-prod-apis.s3.amazonaws.com/37/c91865a38a44f793c265af618340a0/731f34b730f0ced443598bb6446d12e3.png', 'https://rapidapi.com/cdn/images?url=https://rapidapi-prod-apis.s3.amazonaws.com/21/0bca70db6911e89c70a3a9e1081621/analyticsseo.png'], 'rule_snmy': ['Lecto Translation', 'Coinranking', 'ProxyPage', 'Google Search 2', 'StreamlineWatch - Streaming Guide', 'IP Geolocation by ipgeolocation.io', 'CurrencyAPI.net', 'UGPROXY', 'SERPhouse', 'Outsida', 'Fake Identity Generator', 'DataForSEO Search Volume', 'Cash4Life', 'Lucky4Life', 'Domain SEO Analysis', 'HTML (website) to PDF', 'Fast PDF Conversion', 'Free games this month', 'Unity AssetStore', 'Device Limiter', 'ReverbNation Song Downloader', 'Extractor', 'IP Address Tracker - PRO', 'AuthoritasSERPs'], 'rule_i1fw': ['Fast Neural Translation. Text/HTML/JSON. Protected keys. Multiple source texts and target languages in a single request. Free Translation API trial with paid plans as low as $0.3 per million characters. 90+ supported languages. For personalized integration support or private plans with higher quotas, contact [support@lecto.ai](mailto:%73%75%70%70%6f%72%74%40%6c%65%63%74%6f%2e%61%69) or via Telegram @lectoai . Also available on our website with attractive Translation API pricing at https://das...', 'A simple API for Cryptocurrency Prices - 28k+ users - Real-Time & Historical - Crypto Market Data - Coins - Exchanges - Free & Paid', 'Get high quality proxies for free, proxy list with your filters', 'Serpdog(https://serpdog.io) is a Google Search API that allows you to access Google Search Results in real-time. It solves the problem of proxies and captchas for a smooth scraping journey. Serpdog supports results in both HTML and JSON format.\\nGet your free trial by registering at https://api.serpdog.io', \"StreamlineWatch's streaming guide APIs for Movies and Shows\", 'IP Geolocation API allows developers to get geolocation information for a given IP address. Data points returned by this GeoIP API include city, state, province, country, continent, latitude, longitude, region, timezone, current time, organization, ISP, local currency, and country flags. This IP Location API can be used for content personalization, geotargeting, geofencing, ad targeting, digital rights management, form auto-completion, etc. With the free plan, you can make 15,000 IP lookup API calls per month. Paid plans are starting from $15 per month.', 'Real-time currency conversion on 152 currencies and cryptos', \"UGPROXY Service | Proxy List - Residential Proxy - Rotating IP's Proxy Service\", 'Google, Bing and Yahoo realtime SERP API', 'Outsida provides a convenient API that show events happening in and around your city. You can now query events, venues, query for particular events or venues by name or id.', 'The most complete and cheap Fake Identity Generation API', 'DataForSEO Search Volume API provides keyword data based on Google AdWords.', 'Do you want to get paid for the rest of your life? This is your game! Introducing the latest winning numbers and the best statistics!', 'Do you want to get paid for the rest of your life? This is your game! Introducing the lastest winning numbers and the best statistics!', \"Bishopi's advanced and real-time proprietary SEO metrics for domain names investors, keywords research and SEO professionals. - More on Bishopi.io\", 'This API allows developers to easily convert webpages to high-quality PDFs. By sending a GET request to the API endpoint with the URL of the webpage, users can quickly and easily generate a PDF of the webpage in question. The API also allows for customization of the size of the generated PDF by passing width and height parameters in the query string. Additionally, the API sets the downloaded filename as the title of the website, providing a convenient and easily identifiable file.', 'Fastest Word DOCX to PDF conversion tool (+30 more formats)! Try for free now!', 'Get access to a curated list of games that gaming platforms are giving away periodically (PlayStation, Epic Games Store, Xbox, Prime Gaming, etc)', 'Get all details of assets, get top 100 assets free, paid and new.', 'The service keeps track of devices used by the users of your app (mobile or web) and allows you to limit the usage by each user to a small number of devices (default 5). This limitation can help reduce credential sharing on paid services.', 'Get ReverbNation data of any paid song(s) with download URLs', 'Extract clean text and metadata from thousands of articles. Stop handling local libraries and let Extractor API take care of IP rotation, JavaScript rendering, retries and other headaches.Use the API or our online tool. Sign up now and get 1,000 requests free. Sign up here: https://extractorapi.com/extractor-api-pricing/', 'This is a paid service that will get you the ip geographical location information of your user. Just simply call the API for a pacific ip address and you will get the following information about your user: country, state, city, zip code, longitude, latitude, and timezone', 'Get keyword rankings, PPC data, and search engine rankings.']}\n"
          ]
        }
      ],
      "source": [
        "result=scraper.get_result_similar(api_url,grouped=True)\n",
        "print(result)"
      ]
    },
    {
      "cell_type": "code",
      "execution_count": null,
      "metadata": {
        "id": "qTQuHccjeQ2F"
      },
      "outputs": [],
      "source": [
        "scraper.set_rule_aliases({'rule_q41y':'Images','rule_snmy':'Title','rule_5p3v':'Description'})\n",
        "scraper.keep_rules(['rule_q41y','rule_snmy','rule_5p3v'])\n",
        "scraper.save('api-search')\n"
      ]
    },
    {
      "cell_type": "code",
      "execution_count": null,
      "metadata": {
        "colab": {
          "base_uri": "https://localhost:8080/"
        },
        "id": "xGDwDWwWe5gP",
        "outputId": "a2110c37-b37d-4211-dd5c-d92da2f7e2e6"
      },
      "outputs": [
        {
          "data": {
            "text/plain": [
              "['Lecto Translation',\n",
              " 'Coinranking',\n",
              " 'ProxyPage',\n",
              " 'Google Search 2',\n",
              " 'StreamlineWatch - Streaming Guide',\n",
              " 'CurrencyAPI.net',\n",
              " 'UGPROXY',\n",
              " 'SERPhouse',\n",
              " 'Upcoming IPO Calendar',\n",
              " 'Outsida',\n",
              " 'IP Geolocation by ipgeolocation.io',\n",
              " 'DataForSEO Search Volume',\n",
              " 'SERP',\n",
              " 'Free games this month',\n",
              " 'Unity AssetStore',\n",
              " 'Fake Identity Generator',\n",
              " 'Device Limiter',\n",
              " 'Domain SEO Analysis',\n",
              " 'Fast PDF Conversion',\n",
              " 'Extractor',\n",
              " 'IP Address Tracker - PRO',\n",
              " 'WalnutTradingDash',\n",
              " 'versions-paid',\n",
              " 'GoogleCloudStorage']"
            ]
          },
          "execution_count": 26,
          "metadata": {},
          "output_type": "execute_result"
        }
      ],
      "source": [
        "result['rule_53gt']"
      ]
    },
    {
      "cell_type": "code",
      "execution_count": null,
      "metadata": {
        "colab": {
          "base_uri": "https://localhost:8080/"
        },
        "id": "rtUwRBAVg6rx",
        "outputId": "c50da555-6056-4ea3-c238-9ad3df8d5dff"
      },
      "outputs": [
        {
          "data": {
            "text/plain": [
              "dict"
            ]
          },
          "execution_count": 27,
          "metadata": {},
          "output_type": "execute_result"
        }
      ],
      "source": [
        "type(result)"
      ]
    },
    {
      "cell_type": "code",
      "execution_count": null,
      "metadata": {
        "colab": {
          "base_uri": "https://localhost:8080/"
        },
        "id": "2LIEB9tvhNqk",
        "outputId": "8ca1c2b6-405d-42b1-c221-3d3036a73371"
      },
      "outputs": [
        {
          "data": {
            "text/plain": [
              "{'rule_0hb9': ['https://rapidapi.com/cdn/images?url=https://rapidapi-prod-apis.s3.amazonaws.com/b6e657b9-2c11-4798-8465-b4c8d7e0de13.png',\n",
              "  'https://rapidapi.com/cdn/images?url=https://rapidapi-prod-apis.s3.amazonaws.com/c3736925-9c98-4fdc-857e-07c11146afb7.png',\n",
              "  'https://rapidapi.com/cdn/images?url=https://rapidapi-prod-apis.s3.amazonaws.com/c1fb79d1-84ab-43d7-9a0a-93bae7d54122.png',\n",
              "  'https://rapidapi.com/cdn/images?url=https://rapidapi-prod-apis.s3.amazonaws.com/17fe17d3-868d-4fdc-9ae7-1523fa2cb1a6.png',\n",
              "  'https://rapidapi.com/cdn/images?url=https://rapidapi-prod-apis.s3.amazonaws.com/2f2478f3-366e-4cfc-af2a-160fcd359ce0.png',\n",
              "  'https://rapidapi.com/cdn/images?url=https://rapidapi-prod-apis.s3.amazonaws.com/c2a75616-6d6c-4a66-826d-0fbbc2762b92.png',\n",
              "  'https://rapidapi.com/cdn/images?url=https://rapidapi-prod-apis.s3.amazonaws.com/bb/e20cc2091d4963bb075d1dd957d65d/cbd156018162314e428642bcf4d0fd8a.png',\n",
              "  'https://rapidapi.com/cdn/images?url=https://rapidapi-prod-apis.s3.amazonaws.com/58ee5bd0-e893-4539-a764-8fd432e29e0e.png',\n",
              "  'https://rapidapi.com/cdn/images?url=https://rapidapi-prod-apis.s3.amazonaws.com/62e85b60-ccda-462e-afb6-672384d1b143.png',\n",
              "  'https://rapidapi.com/cdn/images?url=https://rapidapi-prod-apis.s3.amazonaws.com/53afacea-db08-418d-8ce1-28606c8bd5c4.png',\n",
              "  'https://rapidapi.com/cdn/images?url=https://s3.amazonaws.com/mashape-production-logos/apis/5b900012e4b01c1322c68237_medium',\n",
              "  'https://rapidapi.com/cdn/images?url=https://rapidapi-prod-apis.s3.amazonaws.com/a871a4ec-83a7-4b61-a853-60b18cca171b.jpg',\n",
              "  'https://rapidapi.com/cdn/images?url=https://rapidapi-prod-apis.s3.amazonaws.com/c9605c1d-2a8e-447f-b402-223b021be0ce.png',\n",
              "  'https://rapidapi.com/cdn/images?url=https://rapidapi-prod-apis.s3.amazonaws.com/e055f8bf-860f-443d-9f5f-451bbadcf6be.png',\n",
              "  'https://rapidapi.com/cdn/images?url=https://rapidapi-prod-apis.s3.amazonaws.com/dd9e053f-de5a-420f-9f54-122ed29cfee6.jpg',\n",
              "  'https://rapidapi.com/cdn/images?url=https://rapidapi-prod-apis.s3.amazonaws.com/bf1840cc-eff8-41c8-94c1-e787ecaaa19a.jpg',\n",
              "  'https://rapidapi.com/cdn/images?url=https://rapidapi-prod-apis.s3.amazonaws.com/976c663f-f16b-40ec-8611-e4a990a1d247.png',\n",
              "  'https://rapidapi.com/cdn/images?url=https://rapidapi-prod-apis.s3.amazonaws.com/ee76191e-e579-4564-89ee-0a1bbf1c0671.png',\n",
              "  'https://rapidapi.com/cdn/images?url=https://rapidapi-prod-apis.s3.amazonaws.com/00bc3506-a014-48a0-be30-6665c7461fbc.png',\n",
              "  'https://rapidapi.com/cdn/images?url=https://rapidapi-prod-apis.s3.amazonaws.com/eef64350-3be7-4058-b3ce-c8e0694f4ab2.png',\n",
              "  'https://rapidapi.com/cdn/images?url=https://rapidapi-prod-apis.s3.amazonaws.com/37/c91865a38a44f793c265af618340a0/731f34b730f0ced443598bb6446d12e3.png',\n",
              "  'https://rapidapi.com/cdn/images?url=https://rapidapi-prod-apis.s3.amazonaws.com/a913ad5d-bbf8-446a-bfb0-bda7a2391906.png',\n",
              "  'https://rapidapi.com/cdn/images?url=https://rapidapi-prod-apis.s3.amazonaws.com/670fcbfc-9aad-4d11-a8d9-a107173136b8.jpg',\n",
              "  'https://rapidapi.com/cdn/images?url=https://rapidapi-prod-apis.s3.amazonaws.com/6e/eef400dc2311e882c04d911c0a4818/Google_Cloud_Storage_logo.png'],\n",
              " 'rule_53gt': ['Lecto Translation',\n",
              "  'Coinranking',\n",
              "  'ProxyPage',\n",
              "  'Google Search 2',\n",
              "  'StreamlineWatch - Streaming Guide',\n",
              "  'CurrencyAPI.net',\n",
              "  'UGPROXY',\n",
              "  'SERPhouse',\n",
              "  'Upcoming IPO Calendar',\n",
              "  'Outsida',\n",
              "  'IP Geolocation by ipgeolocation.io',\n",
              "  'DataForSEO Search Volume',\n",
              "  'SERP',\n",
              "  'Free games this month',\n",
              "  'Unity AssetStore',\n",
              "  'Fake Identity Generator',\n",
              "  'Device Limiter',\n",
              "  'Domain SEO Analysis',\n",
              "  'Fast PDF Conversion',\n",
              "  'Extractor',\n",
              "  'IP Address Tracker - PRO',\n",
              "  'WalnutTradingDash',\n",
              "  'versions-paid',\n",
              "  'GoogleCloudStorage'],\n",
              " 'rule_5p3v': ['Fast Neural Translation. Text/HTML/JSON. Protected keys. Multiple source texts and target languages in a single request. Free Translation API trial with paid plans as low as $0.3 per million characters. 90+ supported languages. For personalized integration support or private plans with higher quotas, contact [support@lecto.ai](mailto:%73%75%70%70%6f%72%74%40%6c%65%63%74%6f%2e%61%69) or via Telegram @lectoai . Also available on our website with attractive Translation API pricing at https://das...',\n",
              "  'The simplest API for Cryptocurrency Prices - Real-Time & Historical - Crypto Market Data - Coins - Exchanges - Free & Paid',\n",
              "  'Get high quality proxies for free, proxy list with your filters',\n",
              "  'Serpdog(https://serpdog.io) is a Google Search API that allows you to access Google Search Results in real-time. It solves the problem of proxies and captchas for a smooth scraping journey. Serpdog supports results in both HTML and JSON format.\\nGet your free trial by registering at https://api.serpdog.io',\n",
              "  \"StreamlineWatch's streaming guide APIs for Movies and Shows\",\n",
              "  'Real-time currency conversion on 152 currencies and cryptos',\n",
              "  \"UGPROXY Service | Proxy List - Residential Proxy - Rotating IP's Proxy Service\",\n",
              "  'Google, Bing and Yahoo realtime SERP API',\n",
              "  'A comprehensive IPO calendar for stocks. Includes upcoming IPO dates, stock symbols, prices, shares offered and more.',\n",
              "  'Outsida provides a convenient API that show events happening in and around your city. You can now query events, venues, query for particular events or venues by name or id.',\n",
              "  'IP Geolocation API allows developers to get geolocation information for a given IP address. Data points returned by this GeoIP API include city, state, province, country, continent, latitude, longitude, region, timezone, current time, organization, ISP, local currency, and country flags. This IP Location API can be used for content personalization, geotargeting, geofencing, ad targeting, digital rights management, form auto-completion, etc. With the free plan, you can make 15,000 IP lookup API calls per month. Paid plans are starting from $15 per month.',\n",
              "  'DataForSEO Search Volume API provides keyword data based on Google AdWords.',\n",
              "  'Search Engine data at scale. Uses city-level geo-targeting via residential proxies for targeted queries. Extract data such as organic results, paid results, related questions, top stories, people also ask, pagination, etc. in JSON format',\n",
              "  'Get access to a curated list of games that gaming platforms are giving away periodically (PlayStation, Epic Games Store, Xbox, Prime Gaming, etc)',\n",
              "  'Get all details of assets, get top 100 assets free, paid and new.',\n",
              "  'The most complete and cheap Fake Identity Generation API',\n",
              "  'The service keeps track of devices used by the users of your app (mobile or web) and allows you to limit the usage by each user to a small number of devices (default 5). This limitation can help reduce credential sharing on paid services.',\n",
              "  \"Bishopi's advanced and real-time proprietary SEO metrics for domain names investors, keywords research and SEO professionals. - More on Bishopi.io\",\n",
              "  'Fastest Word DOCX to PDF conversion tool (+30 more formats) - even under 1 second! Try for free now!',\n",
              "  'Extract clean text and metadata from thousands of articles. Stop handling local libraries and let Extractor API take care of IP rotation, JavaScript rendering, retries and other headaches.Use the API or our online tool. Sign up now and get 1,000 requests free. Sign up here: https://extractorapi.com/extractor-api-pricing/',\n",
              "  'This is a paid service that will get you the ip geographical location information of your user. Just simply call the API for a pacific ip address and you will get the following information about your user: country, state, city, zip code, longitude, latitude, and timezone',\n",
              "  'Algo trading dashboard to backtest strategies with over 170 digital assets (crypto, forex, stocks) and 30 technical analysis strategies. Performance metrics, charts, and interactive visualizations available in real-time.',\n",
              "  'versions-paid',\n",
              "  'Store and retrieve any amount of data anytime']}"
            ]
          },
          "execution_count": 28,
          "metadata": {},
          "output_type": "execute_result"
        }
      ],
      "source": [
        "result"
      ]
    },
    {
      "cell_type": "code",
      "execution_count": null,
      "metadata": {
        "id": "aV9qtLArhpPa"
      },
      "outputs": [],
      "source": [
        "import pandas as pd\n",
        "df = pd.DataFrame(result)\n",
        "df.to_csv('my_file.csv', index=False, header=True)"
      ]
    }
  ],
  "metadata": {
    "colab": {
      "provenance": []
    },
    "kernelspec": {
      "display_name": "Python 3",
      "language": "python",
      "name": "python3"
    },
    "language_info": {
      "codemirror_mode": {
        "name": "ipython",
        "version": 3
      },
      "file_extension": ".py",
      "mimetype": "text/x-python",
      "name": "python",
      "nbconvert_exporter": "python",
      "pygments_lexer": "ipython3",
      "version": "3.11.2"
    },
    "vscode": {
      "interpreter": {
        "hash": "b91f41160b83ffc59c7e17fa6fd02d637d5dcf1d5e59aa2db87d82178661b954"
      }
    }
  },
  "nbformat": 4,
  "nbformat_minor": 0
}
