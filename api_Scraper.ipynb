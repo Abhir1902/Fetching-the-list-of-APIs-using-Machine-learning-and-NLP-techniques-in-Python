{
  "nbformat": 4,
  "nbformat_minor": 0,
  "metadata": {
    "colab": {
      "provenance": []
    },
    "kernelspec": {
      "name": "python3",
      "display_name": "Python 3"
    },
    "language_info": {
      "name": "python"
    }
  },
  "cells": [
    {
      "cell_type": "code",
      "execution_count": null,
      "metadata": {
        "colab": {
          "base_uri": "https://localhost:8080/"
        },
        "id": "T1NHk-NrWFPh",
        "outputId": "0a5673d1-4caa-4dd1-e1b9-ce2f3bf92925"
      },
      "outputs": [
        {
          "output_type": "stream",
          "name": "stdout",
          "text": [
            "Looking in indexes: https://pypi.org/simple, https://us-python.pkg.dev/colab-wheels/public/simple/\n",
            "Requirement already satisfied: beautifulsoup4 in /usr/local/lib/python3.8/dist-packages (4.6.3)\n"
          ]
        }
      ],
      "source": [
        "pip install beautifulsoup4"
      ]
    },
    {
      "cell_type": "code",
      "source": [
        "!pip install autoscraper\n"
      ],
      "metadata": {
        "colab": {
          "base_uri": "https://localhost:8080/"
        },
        "id": "nbcoxN2fWYN9",
        "outputId": "7010c54d-9094-44e6-8c23-b497f7f4e9a8"
      },
      "execution_count": null,
      "outputs": [
        {
          "output_type": "stream",
          "name": "stdout",
          "text": [
            "Looking in indexes: https://pypi.org/simple, https://us-python.pkg.dev/colab-wheels/public/simple/\n",
            "Collecting autoscraper\n",
            "  Downloading autoscraper-1.1.14-py3-none-any.whl (10 kB)\n",
            "Requirement already satisfied: bs4 in /usr/local/lib/python3.8/dist-packages (from autoscraper) (0.0.1)\n",
            "Requirement already satisfied: requests in /usr/local/lib/python3.8/dist-packages (from autoscraper) (2.23.0)\n",
            "Requirement already satisfied: lxml in /usr/local/lib/python3.8/dist-packages (from autoscraper) (4.9.2)\n",
            "Requirement already satisfied: beautifulsoup4 in /usr/local/lib/python3.8/dist-packages (from bs4->autoscraper) (4.6.3)\n",
            "Requirement already satisfied: urllib3!=1.25.0,!=1.25.1,<1.26,>=1.21.1 in /usr/local/lib/python3.8/dist-packages (from requests->autoscraper) (1.24.3)\n",
            "Requirement already satisfied: chardet<4,>=3.0.2 in /usr/local/lib/python3.8/dist-packages (from requests->autoscraper) (3.0.4)\n",
            "Requirement already satisfied: certifi>=2017.4.17 in /usr/local/lib/python3.8/dist-packages (from requests->autoscraper) (2022.12.7)\n",
            "Requirement already satisfied: idna<3,>=2.5 in /usr/local/lib/python3.8/dist-packages (from requests->autoscraper) (2.10)\n",
            "Installing collected packages: autoscraper\n",
            "Successfully installed autoscraper-1.1.14\n"
          ]
        }
      ]
    },
    {
      "cell_type": "code",
      "source": [
        "from autoscraper import AutoScraper"
      ],
      "metadata": {
        "id": "KR68vNjjcQTt"
      },
      "execution_count": null,
      "outputs": []
    },
    {
      "cell_type": "code",
      "source": [
        "api_url=\"https://rapidapi.com/search/Paid%20api\"\n",
        "\n",
        "wanted_list=[\"https://rapidapi.com/cdn/images?url=https://rapidapi-prod-apis.s3.amazonaws.com/b6e657b9-2c11-4798-8465-b4c8d7e0de13.png\",\"Lecto Translation\",\"Fast Neural Translation. Text/HTML/JSON. Protected keys. Multiple source texts and target languages in a single request. Free Translation API trial with paid plans as low as $0.3 per million characters. 90+ supported languages. For personalized integration support or private plans with higher quotas, contact [support@lecto.ai](mailto:%73%75%70%70%6f%72%74%40%6c%65%63%74%6f%2e%61%69) or via Telegram @lectoai . Also available on our website with attractive Translation API pricing at https://das...\"]"
      ],
      "metadata": {
        "id": "gcJUs56hcTf1"
      },
      "execution_count": null,
      "outputs": []
    },
    {
      "cell_type": "code",
      "source": [
        "scraper=AutoScraper()\n",
        "result=scraper.build(api_url,wanted_list)\n",
        "print(result)"
      ],
      "metadata": {
        "colab": {
          "base_uri": "https://localhost:8080/"
        },
        "id": "VRA7XWc3dIxG",
        "outputId": "6a8e74c1-19fb-4c2b-8b73-dc922966a244"
      },
      "execution_count": null,
      "outputs": [
        {
          "output_type": "stream",
          "name": "stdout",
          "text": [
            "['https://rapidapi.com/cdn/images?url=https://rapidapi-prod-apis.s3.amazonaws.com/b6e657b9-2c11-4798-8465-b4c8d7e0de13.png', 'https://rapidapi.com/cdn/images?url=https://rapidapi-prod-apis.s3.amazonaws.com/c3736925-9c98-4fdc-857e-07c11146afb7.png', 'https://rapidapi.com/cdn/images?url=https://rapidapi-prod-apis.s3.amazonaws.com/c1fb79d1-84ab-43d7-9a0a-93bae7d54122.png', 'https://rapidapi.com/cdn/images?url=https://rapidapi-prod-apis.s3.amazonaws.com/17fe17d3-868d-4fdc-9ae7-1523fa2cb1a6.png', 'https://rapidapi.com/cdn/images?url=https://rapidapi-prod-apis.s3.amazonaws.com/2f2478f3-366e-4cfc-af2a-160fcd359ce0.png', 'https://rapidapi.com/cdn/images?url=https://rapidapi-prod-apis.s3.amazonaws.com/c2a75616-6d6c-4a66-826d-0fbbc2762b92.png', 'https://rapidapi.com/cdn/images?url=https://rapidapi-prod-apis.s3.amazonaws.com/bb/e20cc2091d4963bb075d1dd957d65d/cbd156018162314e428642bcf4d0fd8a.png', 'https://rapidapi.com/cdn/images?url=https://rapidapi-prod-apis.s3.amazonaws.com/58ee5bd0-e893-4539-a764-8fd432e29e0e.png', 'https://rapidapi.com/cdn/images?url=https://rapidapi-prod-apis.s3.amazonaws.com/62e85b60-ccda-462e-afb6-672384d1b143.png', 'https://rapidapi.com/cdn/images?url=https://rapidapi-prod-apis.s3.amazonaws.com/53afacea-db08-418d-8ce1-28606c8bd5c4.png', 'https://rapidapi.com/cdn/images?url=https://s3.amazonaws.com/mashape-production-logos/apis/5b900012e4b01c1322c68237_medium', 'https://rapidapi.com/cdn/images?url=https://rapidapi-prod-apis.s3.amazonaws.com/a871a4ec-83a7-4b61-a853-60b18cca171b.jpg', 'https://rapidapi.com/cdn/images?url=https://rapidapi-prod-apis.s3.amazonaws.com/c9605c1d-2a8e-447f-b402-223b021be0ce.png', 'https://rapidapi.com/cdn/images?url=https://rapidapi-prod-apis.s3.amazonaws.com/e055f8bf-860f-443d-9f5f-451bbadcf6be.png', 'https://rapidapi.com/cdn/images?url=https://rapidapi-prod-apis.s3.amazonaws.com/dd9e053f-de5a-420f-9f54-122ed29cfee6.jpg', 'https://rapidapi.com/cdn/images?url=https://rapidapi-prod-apis.s3.amazonaws.com/bf1840cc-eff8-41c8-94c1-e787ecaaa19a.jpg', 'https://rapidapi.com/cdn/images?url=https://rapidapi-prod-apis.s3.amazonaws.com/976c663f-f16b-40ec-8611-e4a990a1d247.png', 'https://rapidapi.com/cdn/images?url=https://rapidapi-prod-apis.s3.amazonaws.com/ee76191e-e579-4564-89ee-0a1bbf1c0671.png', 'https://rapidapi.com/cdn/images?url=https://rapidapi-prod-apis.s3.amazonaws.com/00bc3506-a014-48a0-be30-6665c7461fbc.png', 'https://rapidapi.com/cdn/images?url=https://rapidapi-prod-apis.s3.amazonaws.com/eef64350-3be7-4058-b3ce-c8e0694f4ab2.png', 'https://rapidapi.com/cdn/images?url=https://rapidapi-prod-apis.s3.amazonaws.com/37/c91865a38a44f793c265af618340a0/731f34b730f0ced443598bb6446d12e3.png', 'https://rapidapi.com/cdn/images?url=https://rapidapi-prod-apis.s3.amazonaws.com/a913ad5d-bbf8-446a-bfb0-bda7a2391906.png', 'https://rapidapi.com/cdn/images?url=https://rapidapi-prod-apis.s3.amazonaws.com/670fcbfc-9aad-4d11-a8d9-a107173136b8.jpg', 'https://rapidapi.com/cdn/images?url=https://rapidapi-prod-apis.s3.amazonaws.com/6e/eef400dc2311e882c04d911c0a4818/Google_Cloud_Storage_logo.png', 'Lecto Translation', 'Coinranking', 'ProxyPage', 'Google Search 2', 'StreamlineWatch - Streaming Guide', 'CurrencyAPI.net', 'UGPROXY', 'SERPhouse', 'Upcoming IPO Calendar', 'Outsida', 'IP Geolocation by ipgeolocation.io', 'DataForSEO Search Volume', 'SERP', 'Free games this month', 'Unity AssetStore', 'Fake Identity Generator', 'Device Limiter', 'Domain SEO Analysis', 'Fast PDF Conversion', 'Extractor', 'IP Address Tracker - PRO', 'WalnutTradingDash', 'versions-paid', 'GoogleCloudStorage', 'Fast Neural Translation. Text/HTML/JSON. Protected keys. Multiple source texts and target languages in a single request. Free Translation API trial with paid plans as low as $0.3 per million characters. 90+ supported languages. For personalized integration support or private plans with higher quotas, contact [support@lecto.ai](mailto:%73%75%70%70%6f%72%74%40%6c%65%63%74%6f%2e%61%69) or via Telegram @lectoai . Also available on our website with attractive Translation API pricing at https://das...', 'The simplest API for Cryptocurrency Prices - Real-Time & Historical - Crypto Market Data - Coins - Exchanges - Free & Paid', 'Get high quality proxies for free, proxy list with your filters', 'Serpdog(https://serpdog.io) is a Google Search API that allows you to access Google Search Results in real-time. It solves the problem of proxies and captchas for a smooth scraping journey. Serpdog supports results in both HTML and JSON format.\\nGet your free trial by registering at https://api.serpdog.io', \"StreamlineWatch's streaming guide APIs for Movies and Shows\", 'Real-time currency conversion on 152 currencies and cryptos', \"UGPROXY Service | Proxy List - Residential Proxy - Rotating IP's Proxy Service\", 'Google, Bing and Yahoo realtime SERP API', 'A comprehensive IPO calendar for stocks. Includes upcoming IPO dates, stock symbols, prices, shares offered and more.', 'Outsida provides a convenient API that show events happening in and around your city. You can now query events, venues, query for particular events or venues by name or id.', 'IP Geolocation API allows developers to get geolocation information for a given IP address. Data points returned by this GeoIP API include city, state, province, country, continent, latitude, longitude, region, timezone, current time, organization, ISP, local currency, and country flags. This IP Location API can be used for content personalization, geotargeting, geofencing, ad targeting, digital rights management, form auto-completion, etc. With the free plan, you can make 15,000 IP lookup API calls per month. Paid plans are starting from $15 per month.', 'DataForSEO Search Volume API provides keyword data based on Google AdWords.', 'Search Engine data at scale. Uses city-level geo-targeting via residential proxies for targeted queries. Extract data such as organic results, paid results, related questions, top stories, people also ask, pagination, etc. in JSON format', 'Get access to a curated list of games that gaming platforms are giving away periodically (PlayStation, Epic Games Store, Xbox, Prime Gaming, etc)', 'Get all details of assets, get top 100 assets free, paid and new.', 'The most complete and cheap Fake Identity Generation API', 'The service keeps track of devices used by the users of your app (mobile or web) and allows you to limit the usage by each user to a small number of devices (default 5). This limitation can help reduce credential sharing on paid services.', \"Bishopi's advanced and real-time proprietary SEO metrics for domain names investors, keywords research and SEO professionals. - More on Bishopi.io\", 'Fastest Word DOCX to PDF conversion tool (+30 more formats) - even under 1 second! Try for free now!', 'Extract clean text and metadata from thousands of articles. Stop handling local libraries and let Extractor API take care of IP rotation, JavaScript rendering, retries and other headaches.Use the API or our online tool. Sign up now and get 1,000 requests free. Sign up here: https://extractorapi.com/extractor-api-pricing/', 'This is a paid service that will get you the ip geographical location information of your user. Just simply call the API for a pacific ip address and you will get the following information about your user: country, state, city, zip code, longitude, latitude, and timezone', 'Algo trading dashboard to backtest strategies with over 170 digital assets (crypto, forex, stocks) and 30 technical analysis strategies. Performance metrics, charts, and interactive visualizations available in real-time.', 'Store and retrieve any amount of data anytime']\n"
          ]
        }
      ]
    },
    {
      "cell_type": "code",
      "source": [
        "result=scraper.get_result_similar(api_url,grouped=True)"
      ],
      "metadata": {
        "id": "I2t6eODndp6Z"
      },
      "execution_count": null,
      "outputs": []
    },
    {
      "cell_type": "code",
      "source": [
        "scraper.set_rule_aliases({'rule_0hb9':'Images','rule_53gt':'Title','rule_5p3v':'Description'})\n",
        "scraper.keep_rules(['rule_0hb9','rule_53gt','rule_5p3v'])\n",
        "scraper.save('api-search')\n"
      ],
      "metadata": {
        "id": "qTQuHccjeQ2F"
      },
      "execution_count": null,
      "outputs": []
    },
    {
      "cell_type": "code",
      "source": [
        "result['rule_53gt']"
      ],
      "metadata": {
        "colab": {
          "base_uri": "https://localhost:8080/"
        },
        "id": "xGDwDWwWe5gP",
        "outputId": "a2110c37-b37d-4211-dd5c-d92da2f7e2e6"
      },
      "execution_count": null,
      "outputs": [
        {
          "output_type": "execute_result",
          "data": {
            "text/plain": [
              "['Lecto Translation',\n",
              " 'Coinranking',\n",
              " 'ProxyPage',\n",
              " 'Google Search 2',\n",
              " 'StreamlineWatch - Streaming Guide',\n",
              " 'CurrencyAPI.net',\n",
              " 'UGPROXY',\n",
              " 'SERPhouse',\n",
              " 'Upcoming IPO Calendar',\n",
              " 'Outsida',\n",
              " 'IP Geolocation by ipgeolocation.io',\n",
              " 'DataForSEO Search Volume',\n",
              " 'SERP',\n",
              " 'Free games this month',\n",
              " 'Unity AssetStore',\n",
              " 'Fake Identity Generator',\n",
              " 'Device Limiter',\n",
              " 'Domain SEO Analysis',\n",
              " 'Fast PDF Conversion',\n",
              " 'Extractor',\n",
              " 'IP Address Tracker - PRO',\n",
              " 'WalnutTradingDash',\n",
              " 'versions-paid',\n",
              " 'GoogleCloudStorage']"
            ]
          },
          "metadata": {},
          "execution_count": 26
        }
      ]
    },
    {
      "cell_type": "code",
      "source": [
        "type(result)"
      ],
      "metadata": {
        "colab": {
          "base_uri": "https://localhost:8080/"
        },
        "id": "rtUwRBAVg6rx",
        "outputId": "c50da555-6056-4ea3-c238-9ad3df8d5dff"
      },
      "execution_count": null,
      "outputs": [
        {
          "output_type": "execute_result",
          "data": {
            "text/plain": [
              "dict"
            ]
          },
          "metadata": {},
          "execution_count": 27
        }
      ]
    },
    {
      "cell_type": "code",
      "source": [
        "result"
      ],
      "metadata": {
        "colab": {
          "base_uri": "https://localhost:8080/"
        },
        "id": "2LIEB9tvhNqk",
        "outputId": "8ca1c2b6-405d-42b1-c221-3d3036a73371"
      },
      "execution_count": null,
      "outputs": [
        {
          "output_type": "execute_result",
          "data": {
            "text/plain": [
              "{'rule_0hb9': ['https://rapidapi.com/cdn/images?url=https://rapidapi-prod-apis.s3.amazonaws.com/b6e657b9-2c11-4798-8465-b4c8d7e0de13.png',\n",
              "  'https://rapidapi.com/cdn/images?url=https://rapidapi-prod-apis.s3.amazonaws.com/c3736925-9c98-4fdc-857e-07c11146afb7.png',\n",
              "  'https://rapidapi.com/cdn/images?url=https://rapidapi-prod-apis.s3.amazonaws.com/c1fb79d1-84ab-43d7-9a0a-93bae7d54122.png',\n",
              "  'https://rapidapi.com/cdn/images?url=https://rapidapi-prod-apis.s3.amazonaws.com/17fe17d3-868d-4fdc-9ae7-1523fa2cb1a6.png',\n",
              "  'https://rapidapi.com/cdn/images?url=https://rapidapi-prod-apis.s3.amazonaws.com/2f2478f3-366e-4cfc-af2a-160fcd359ce0.png',\n",
              "  'https://rapidapi.com/cdn/images?url=https://rapidapi-prod-apis.s3.amazonaws.com/c2a75616-6d6c-4a66-826d-0fbbc2762b92.png',\n",
              "  'https://rapidapi.com/cdn/images?url=https://rapidapi-prod-apis.s3.amazonaws.com/bb/e20cc2091d4963bb075d1dd957d65d/cbd156018162314e428642bcf4d0fd8a.png',\n",
              "  'https://rapidapi.com/cdn/images?url=https://rapidapi-prod-apis.s3.amazonaws.com/58ee5bd0-e893-4539-a764-8fd432e29e0e.png',\n",
              "  'https://rapidapi.com/cdn/images?url=https://rapidapi-prod-apis.s3.amazonaws.com/62e85b60-ccda-462e-afb6-672384d1b143.png',\n",
              "  'https://rapidapi.com/cdn/images?url=https://rapidapi-prod-apis.s3.amazonaws.com/53afacea-db08-418d-8ce1-28606c8bd5c4.png',\n",
              "  'https://rapidapi.com/cdn/images?url=https://s3.amazonaws.com/mashape-production-logos/apis/5b900012e4b01c1322c68237_medium',\n",
              "  'https://rapidapi.com/cdn/images?url=https://rapidapi-prod-apis.s3.amazonaws.com/a871a4ec-83a7-4b61-a853-60b18cca171b.jpg',\n",
              "  'https://rapidapi.com/cdn/images?url=https://rapidapi-prod-apis.s3.amazonaws.com/c9605c1d-2a8e-447f-b402-223b021be0ce.png',\n",
              "  'https://rapidapi.com/cdn/images?url=https://rapidapi-prod-apis.s3.amazonaws.com/e055f8bf-860f-443d-9f5f-451bbadcf6be.png',\n",
              "  'https://rapidapi.com/cdn/images?url=https://rapidapi-prod-apis.s3.amazonaws.com/dd9e053f-de5a-420f-9f54-122ed29cfee6.jpg',\n",
              "  'https://rapidapi.com/cdn/images?url=https://rapidapi-prod-apis.s3.amazonaws.com/bf1840cc-eff8-41c8-94c1-e787ecaaa19a.jpg',\n",
              "  'https://rapidapi.com/cdn/images?url=https://rapidapi-prod-apis.s3.amazonaws.com/976c663f-f16b-40ec-8611-e4a990a1d247.png',\n",
              "  'https://rapidapi.com/cdn/images?url=https://rapidapi-prod-apis.s3.amazonaws.com/ee76191e-e579-4564-89ee-0a1bbf1c0671.png',\n",
              "  'https://rapidapi.com/cdn/images?url=https://rapidapi-prod-apis.s3.amazonaws.com/00bc3506-a014-48a0-be30-6665c7461fbc.png',\n",
              "  'https://rapidapi.com/cdn/images?url=https://rapidapi-prod-apis.s3.amazonaws.com/eef64350-3be7-4058-b3ce-c8e0694f4ab2.png',\n",
              "  'https://rapidapi.com/cdn/images?url=https://rapidapi-prod-apis.s3.amazonaws.com/37/c91865a38a44f793c265af618340a0/731f34b730f0ced443598bb6446d12e3.png',\n",
              "  'https://rapidapi.com/cdn/images?url=https://rapidapi-prod-apis.s3.amazonaws.com/a913ad5d-bbf8-446a-bfb0-bda7a2391906.png',\n",
              "  'https://rapidapi.com/cdn/images?url=https://rapidapi-prod-apis.s3.amazonaws.com/670fcbfc-9aad-4d11-a8d9-a107173136b8.jpg',\n",
              "  'https://rapidapi.com/cdn/images?url=https://rapidapi-prod-apis.s3.amazonaws.com/6e/eef400dc2311e882c04d911c0a4818/Google_Cloud_Storage_logo.png'],\n",
              " 'rule_53gt': ['Lecto Translation',\n",
              "  'Coinranking',\n",
              "  'ProxyPage',\n",
              "  'Google Search 2',\n",
              "  'StreamlineWatch - Streaming Guide',\n",
              "  'CurrencyAPI.net',\n",
              "  'UGPROXY',\n",
              "  'SERPhouse',\n",
              "  'Upcoming IPO Calendar',\n",
              "  'Outsida',\n",
              "  'IP Geolocation by ipgeolocation.io',\n",
              "  'DataForSEO Search Volume',\n",
              "  'SERP',\n",
              "  'Free games this month',\n",
              "  'Unity AssetStore',\n",
              "  'Fake Identity Generator',\n",
              "  'Device Limiter',\n",
              "  'Domain SEO Analysis',\n",
              "  'Fast PDF Conversion',\n",
              "  'Extractor',\n",
              "  'IP Address Tracker - PRO',\n",
              "  'WalnutTradingDash',\n",
              "  'versions-paid',\n",
              "  'GoogleCloudStorage'],\n",
              " 'rule_5p3v': ['Fast Neural Translation. Text/HTML/JSON. Protected keys. Multiple source texts and target languages in a single request. Free Translation API trial with paid plans as low as $0.3 per million characters. 90+ supported languages. For personalized integration support or private plans with higher quotas, contact [support@lecto.ai](mailto:%73%75%70%70%6f%72%74%40%6c%65%63%74%6f%2e%61%69) or via Telegram @lectoai . Also available on our website with attractive Translation API pricing at https://das...',\n",
              "  'The simplest API for Cryptocurrency Prices - Real-Time & Historical - Crypto Market Data - Coins - Exchanges - Free & Paid',\n",
              "  'Get high quality proxies for free, proxy list with your filters',\n",
              "  'Serpdog(https://serpdog.io) is a Google Search API that allows you to access Google Search Results in real-time. It solves the problem of proxies and captchas for a smooth scraping journey. Serpdog supports results in both HTML and JSON format.\\nGet your free trial by registering at https://api.serpdog.io',\n",
              "  \"StreamlineWatch's streaming guide APIs for Movies and Shows\",\n",
              "  'Real-time currency conversion on 152 currencies and cryptos',\n",
              "  \"UGPROXY Service | Proxy List - Residential Proxy - Rotating IP's Proxy Service\",\n",
              "  'Google, Bing and Yahoo realtime SERP API',\n",
              "  'A comprehensive IPO calendar for stocks. Includes upcoming IPO dates, stock symbols, prices, shares offered and more.',\n",
              "  'Outsida provides a convenient API that show events happening in and around your city. You can now query events, venues, query for particular events or venues by name or id.',\n",
              "  'IP Geolocation API allows developers to get geolocation information for a given IP address. Data points returned by this GeoIP API include city, state, province, country, continent, latitude, longitude, region, timezone, current time, organization, ISP, local currency, and country flags. This IP Location API can be used for content personalization, geotargeting, geofencing, ad targeting, digital rights management, form auto-completion, etc. With the free plan, you can make 15,000 IP lookup API calls per month. Paid plans are starting from $15 per month.',\n",
              "  'DataForSEO Search Volume API provides keyword data based on Google AdWords.',\n",
              "  'Search Engine data at scale. Uses city-level geo-targeting via residential proxies for targeted queries. Extract data such as organic results, paid results, related questions, top stories, people also ask, pagination, etc. in JSON format',\n",
              "  'Get access to a curated list of games that gaming platforms are giving away periodically (PlayStation, Epic Games Store, Xbox, Prime Gaming, etc)',\n",
              "  'Get all details of assets, get top 100 assets free, paid and new.',\n",
              "  'The most complete and cheap Fake Identity Generation API',\n",
              "  'The service keeps track of devices used by the users of your app (mobile or web) and allows you to limit the usage by each user to a small number of devices (default 5). This limitation can help reduce credential sharing on paid services.',\n",
              "  \"Bishopi's advanced and real-time proprietary SEO metrics for domain names investors, keywords research and SEO professionals. - More on Bishopi.io\",\n",
              "  'Fastest Word DOCX to PDF conversion tool (+30 more formats) - even under 1 second! Try for free now!',\n",
              "  'Extract clean text and metadata from thousands of articles. Stop handling local libraries and let Extractor API take care of IP rotation, JavaScript rendering, retries and other headaches.Use the API or our online tool. Sign up now and get 1,000 requests free. Sign up here: https://extractorapi.com/extractor-api-pricing/',\n",
              "  'This is a paid service that will get you the ip geographical location information of your user. Just simply call the API for a pacific ip address and you will get the following information about your user: country, state, city, zip code, longitude, latitude, and timezone',\n",
              "  'Algo trading dashboard to backtest strategies with over 170 digital assets (crypto, forex, stocks) and 30 technical analysis strategies. Performance metrics, charts, and interactive visualizations available in real-time.',\n",
              "  'versions-paid',\n",
              "  'Store and retrieve any amount of data anytime']}"
            ]
          },
          "metadata": {},
          "execution_count": 28
        }
      ]
    },
    {
      "cell_type": "code",
      "source": [
        "import pandas as pd\n",
        "df = pd.DataFrame(result)\n",
        "df.to_csv('my_file.csv', index=False, header=True)"
      ],
      "metadata": {
        "id": "aV9qtLArhpPa"
      },
      "execution_count": null,
      "outputs": []
    }
  ]
}