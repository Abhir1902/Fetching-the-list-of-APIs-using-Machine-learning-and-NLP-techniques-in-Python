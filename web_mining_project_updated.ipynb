{
  "cells": [
    {
      "cell_type": "markdown",
      "metadata": {
        "id": "view-in-github",
        "colab_type": "text"
      },
      "source": [
        "<a href=\"https://colab.research.google.com/github/Abhir1902/Fetching-the-list-of-APIs-using-Machine-learning-and-NLP-techniques-in-Python/blob/main/web_mining_project_updated.ipynb\" target=\"_parent\"><img src=\"https://colab.research.google.com/assets/colab-badge.svg\" alt=\"Open In Colab\"/></a>"
      ]
    },
    {
      "cell_type": "code",
      "execution_count": 1,
      "metadata": {
        "colab": {
          "base_uri": "https://localhost:8080/"
        },
        "id": "T1NHk-NrWFPh",
        "outputId": "fb8f66ba-f79c-485d-e9eb-47702068bc0b"
      },
      "outputs": [
        {
          "output_type": "stream",
          "name": "stdout",
          "text": [
            "Looking in indexes: https://pypi.org/simple, https://us-python.pkg.dev/colab-wheels/public/simple/\n",
            "Requirement already satisfied: beautifulsoup4 in /usr/local/lib/python3.9/dist-packages (4.11.2)\n",
            "Requirement already satisfied: soupsieve>1.2 in /usr/local/lib/python3.9/dist-packages (from beautifulsoup4) (2.4)\n"
          ]
        }
      ],
      "source": [
        "pip install beautifulsoup4"
      ]
    },
    {
      "cell_type": "code",
      "execution_count": 2,
      "metadata": {
        "colab": {
          "base_uri": "https://localhost:8080/"
        },
        "id": "nbcoxN2fWYN9",
        "outputId": "ae2a7698-5e7c-40a0-f883-594c5f7dbaab"
      },
      "outputs": [
        {
          "output_type": "stream",
          "name": "stdout",
          "text": [
            "Looking in indexes: https://pypi.org/simple, https://us-python.pkg.dev/colab-wheels/public/simple/\n",
            "Collecting autoscraper\n",
            "  Downloading autoscraper-1.1.14-py3-none-any.whl (10 kB)\n",
            "Requirement already satisfied: requests in /usr/local/lib/python3.9/dist-packages (from autoscraper) (2.27.1)\n",
            "Collecting bs4\n",
            "  Downloading bs4-0.0.1.tar.gz (1.1 kB)\n",
            "  Preparing metadata (setup.py) ... \u001b[?25l\u001b[?25hdone\n",
            "Requirement already satisfied: lxml in /usr/local/lib/python3.9/dist-packages (from autoscraper) (4.9.2)\n",
            "Requirement already satisfied: beautifulsoup4 in /usr/local/lib/python3.9/dist-packages (from bs4->autoscraper) (4.11.2)\n",
            "Requirement already satisfied: charset-normalizer~=2.0.0 in /usr/local/lib/python3.9/dist-packages (from requests->autoscraper) (2.0.12)\n",
            "Requirement already satisfied: certifi>=2017.4.17 in /usr/local/lib/python3.9/dist-packages (from requests->autoscraper) (2022.12.7)\n",
            "Requirement already satisfied: urllib3<1.27,>=1.21.1 in /usr/local/lib/python3.9/dist-packages (from requests->autoscraper) (1.26.15)\n",
            "Requirement already satisfied: idna<4,>=2.5 in /usr/local/lib/python3.9/dist-packages (from requests->autoscraper) (3.4)\n",
            "Requirement already satisfied: soupsieve>1.2 in /usr/local/lib/python3.9/dist-packages (from beautifulsoup4->bs4->autoscraper) (2.4)\n",
            "Building wheels for collected packages: bs4\n",
            "  Building wheel for bs4 (setup.py) ... \u001b[?25l\u001b[?25hdone\n",
            "  Created wheel for bs4: filename=bs4-0.0.1-py3-none-any.whl size=1270 sha256=c7a0751732cf0804f4241c6be701cfd5871e838ad9a500811b8ee5bf40cc3864\n",
            "  Stored in directory: /root/.cache/pip/wheels/73/2b/cb/099980278a0c9a3e57ff1a89875ec07bfa0b6fcbebb9a8cad3\n",
            "Successfully built bs4\n",
            "Installing collected packages: bs4, autoscraper\n",
            "Successfully installed autoscraper-1.1.14 bs4-0.0.1\n"
          ]
        }
      ],
      "source": [
        "!pip install autoscraper\n"
      ]
    },
    {
      "cell_type": "code",
      "execution_count": 3,
      "metadata": {
        "id": "KR68vNjjcQTt"
      },
      "outputs": [],
      "source": [
        "from autoscraper import AutoScraper"
      ]
    },
    {
      "cell_type": "code",
      "execution_count": 17,
      "metadata": {
        "id": "gcJUs56hcTf1"
      },
      "outputs": [],
      "source": [
        "api_url=\"https://rapidapi.com/search/Paid%20api\"\n",
        "\n",
        "wanted_list=[\"https://rapidapi.com/cdn/images?url=https://rapidapi-prod-apis.s3.amazonaws.com/b6e657b9-2c11-4798-8465-b4c8d7e0de13.png\",\"Fast Neural Translation. Text/HTML/JSON. Protected keys. Multiple source texts and target languages in a single request. Free Translation API trial with paid plans as low as $0.3 per million characters. 90+ supported languages. For personalized integration support or private plans with higher quotas, contact [support@lecto.ai](mailto:%73%75%70%70%6f%72%74%40%6c%65%63%74%6f%2e%61%69) or via Telegram @lectoai . Also available via our website with attractive Translation API pricing at https://da...\",\"Lecto Translation\"]"
      ]
    },
    {
      "cell_type": "code",
      "execution_count": 18,
      "metadata": {
        "colab": {
          "base_uri": "https://localhost:8080/"
        },
        "id": "VRA7XWc3dIxG",
        "outputId": "0642863b-e7c0-4c98-b686-06aec0bad275"
      },
      "outputs": [
        {
          "output_type": "stream",
          "name": "stdout",
          "text": [
            "['https://rapidapi.com/cdn/images?url=https://rapidapi-prod-apis.s3.amazonaws.com/b6e657b9-2c11-4798-8465-b4c8d7e0de13.png', 'https://rapidapi.com/cdn/images?url=https://rapidapi-prod-apis.s3.amazonaws.com/c3736925-9c98-4fdc-857e-07c11146afb7.png', 'https://rapidapi.com/cdn/images?url=https://rapidapi-prod-apis.s3.amazonaws.com/c1fb79d1-84ab-43d7-9a0a-93bae7d54122.png', 'https://rapidapi.com/cdn/images?url=https://rapidapi-prod-apis.s3.amazonaws.com/17fe17d3-868d-4fdc-9ae7-1523fa2cb1a6.png', 'https://rapidapi.com/cdn/images?url=https://rapidapi-prod-apis.s3.amazonaws.com/2f2478f3-366e-4cfc-af2a-160fcd359ce0.png', 'https://rapidapi.com/cdn/images?url=https://s3.amazonaws.com/mashape-production-logos/apis/5b900012e4b01c1322c68237_medium', 'https://rapidapi.com/cdn/images?url=https://rapidapi-prod-apis.s3.amazonaws.com/c2a75616-6d6c-4a66-826d-0fbbc2762b92.png', 'https://rapidapi.com/cdn/images?url=https://rapidapi-prod-apis.s3.amazonaws.com/bb/e20cc2091d4963bb075d1dd957d65d/cbd156018162314e428642bcf4d0fd8a.png', 'https://rapidapi.com/cdn/images?url=https://rapidapi-prod-apis.s3.amazonaws.com/58ee5bd0-e893-4539-a764-8fd432e29e0e.png', 'https://rapidapi.com/cdn/images?url=https://rapidapi-prod-apis.s3.amazonaws.com/c9605c1d-2a8e-447f-b402-223b021be0ce.png', 'https://rapidapi.com/cdn/images?url=https://rapidapi-prod-apis.s3.amazonaws.com/53afacea-db08-418d-8ce1-28606c8bd5c4.png', 'https://rapidapi.com/cdn/images?url=https://rapidapi-prod-apis.s3.amazonaws.com/bf1840cc-eff8-41c8-94c1-e787ecaaa19a.jpg', 'https://rapidapi.com/cdn/images?url=https://rapidapi-prod-apis.s3.amazonaws.com/a871a4ec-83a7-4b61-a853-60b18cca171b.jpg', 'https://rapidapi.com/cdn/images?url=https://rapidapi-prod-apis.s3.amazonaws.com/86efcf31-d9ed-4e3c-80f4-2449eb032c72.png', 'https://rapidapi.com/cdn/images?url=https://rapidapi-prod-apis.s3.amazonaws.com/1e723a10-7569-4615-b598-5207a758ed67.png', 'https://rapidapi.com/cdn/images?url=https://rapidapi-prod-apis.s3.amazonaws.com/00bc3506-a014-48a0-be30-6665c7461fbc.png', 'https://rapidapi.com/cdn/images?url=https://rapidapi-prod-apis.s3.amazonaws.com/976c663f-f16b-40ec-8611-e4a990a1d247.png', 'https://rapidapi.com/cdn/images?url=https://rapidapi-prod-apis.s3.amazonaws.com/4c6fcdeb-22c1-4b40-8cb9-d60c1056d527.png', 'https://rapidapi.com/cdn/images?url=https://rapidapi-prod-apis.s3.amazonaws.com/355a5650-06d2-44b5-ac7f-836360bde033.png', 'https://rapidapi.com/cdn/images?url=https://rapidapi-prod-apis.s3.amazonaws.com/eef64350-3be7-4058-b3ce-c8e0694f4ab2.png', 'https://rapidapi.com/cdn/images?url=https://rapidapi-prod-apis.s3.amazonaws.com/37/c91865a38a44f793c265af618340a0/731f34b730f0ced443598bb6446d12e3.png', 'https://rapidapi.com/cdn/images?url=https://rapidapi-prod-apis.s3.amazonaws.com/a913ad5d-bbf8-446a-bfb0-bda7a2391906.png', 'https://rapidapi.com/cdn/images?url=https://rapidapi-prod-apis.s3.amazonaws.com/de244b5b-800c-43c9-93e1-bc759b4a4d9e.png', 'https://rapidapi.com/cdn/images?url=https://rapidapi-prod-apis.s3.amazonaws.com/6c60e51e-d25f-4fa4-93e9-017f781b3bfd.png', 'Fast Neural Translation. Text/HTML/JSON. Protected keys. Multiple source texts and target languages in a single request. Free Translation API trial with paid plans as low as $0.3 per million characters. 90+ supported languages. For personalized integration support or private plans with higher quotas, contact [support@lecto.ai](mailto:%73%75%70%70%6f%72%74%40%6c%65%63%74%6f%2e%61%69) or via Telegram @lectoai . Also available via our website with attractive Translation API pricing at https://da...', 'A simple API for Cryptocurrency Prices - 28k+ users - Real-Time & Historical - Crypto Market Data - Coins - Exchanges - Free & Paid', 'Get high quality proxies for free, proxy list with your filters', 'Serpdog(https://serpdog.io) is a Google Search API that allows you to access Google Search Results in real time. It solves the problem of proxies and captchas for a smooth scraping journey. Serpdog supports results in both HTML and JSON format.\\nGet your free trial by registering at https://api.serpdog.io\\nIf you want to buy our plan, I recommend you to please visit https://serpdog.io/pricing for more information.', \"StreamlineWatch's streaming guide APIs for Movies and Shows\", 'IP Geolocation API allows developers to get geolocation information for a given IP address. Data points returned by this GeoIP API include city, state, province, country, continent, latitude, longitude, region, timezone, current time, organization, ISP, local currency, and country flags. This IP Location API can be used for content personalization, geotargeting, geofencing, ad targeting, digital rights management, form auto-completion, etc. With the free plan, you can make 15,000 IP lookup API calls per month. Paid plans are starting from $15 per month.', 'Real-time currency conversion on 152 currencies and cryptos', \"UGPROXY Service | Proxy List - Residential Proxy - Rotating IP's Proxy Service\", 'Google, Bing and Yahoo realtime SERP API', 'Search Engine data at scale. Uses city-level geo-targeting via residential proxies for targeted queries. Extract data such as organic results, paid results, related questions, top stories, people also ask, pagination, etc. in JSON format', 'Outsida provides a convenient API that show events happening in and around your city. You can now query events, venues, query for particular events or venues by name or id.', 'The most complete and cheap Fake Identity Generation API', 'DataForSEO Search Volume API provides keyword data based on Google AdWords.', 'Do you want to get paid for the rest of your life? This is your game! Introducing the latest winning numbers and the best statistics!', 'Do you want to get paid for the rest of your life? This is your game! Introducing the lastest winning numbers and the best statistics!', 'Fastest Word DOCX to PDF conversion tool (+30 more formats)! Try for free now!', 'The service keeps track of devices used by the users of your app (mobile or web) and allows you to limit the usage by each user to a small number of devices (default 5). This limitation can help reduce credential sharing on paid services.', 'Semantic search for quotes. Wondering which celebrities have said something similar? Look no more, this API gives you the power to search for quotes semantically from over 1M+ quotes. The Artificial Intelligence (NLP) engine behind the scene seeks to understand the meaning of your query rather than simply matching keywords. We allows user to flexibly filter the results by the length of the quote, and/or by a large variety of tags.', 'Our API identifies artificial or generative AI images, providing accurate detection to combat fake and misleading visuals. Using advanced algorithms, it analyzes and identifies unique patterns to offer an added layer of protection and verification for social media platforms, news organizations, and content creators.', 'Extract clean text and metadata from thousands of articles. Stop handling local libraries and let Extractor API take care of IP rotation, JavaScript rendering, retries and other headaches.Use the API or our online tool. Sign up now and get 1,000 requests free. Sign up here: https://extractorapi.com/extractor-api-pricing/', 'This is a paid service that will get you the ip geographical location information of your user. Just simply call the API for a pacific ip address and you will get the following information about your user: country, state, city, zip code, longitude, latitude, and timezone', 'Algo trading dashboard to backtest strategies with over 170 digital assets (crypto, forex, stocks) and 30 technical analysis strategies. Performance metrics, charts, and interactive visualizations available in real-time.', 'This API allows developers to easily convert webpages to high-quality PDFs. By sending a GET request to the API endpoint with the URL of the webpage, users can quickly and easily generate a PDF of the webpage in question. The API also allows for customization of the size of the generated PDF by passing width and height parameters in the query string. Additionally, the API sets the downloaded filename as the title of the website, providing a convenient and easily identifiable file.', 'The most complete, low-cost Google SERP API to power your SEO tools and services', 'Lecto Translation', 'Coinranking', 'ProxyPage', 'Google Search 2', 'StreamlineWatch - Streaming Guide', 'IP Geolocation by ipgeolocation.io', 'CurrencyAPI.net', 'UGPROXY', 'SERPhouse', 'SERP', 'Outsida', 'Fake Identity Generator', 'DataForSEO Search Volume', 'Cash4Life', 'Lucky4Life', 'Fast PDF Conversion', 'Device Limiter', 'Semantic Quotes', 'GenerativeAi Image detection', 'Extractor', 'IP Address Tracker - PRO', 'WalnutTradingDash', 'HTML (website) to PDF', 'VALUE SERP']\n"
          ]
        }
      ],
      "source": [
        "scraper=AutoScraper()\n",
        "result=scraper.build(api_url,wanted_list)\n",
        "print(result)"
      ]
    },
    {
      "cell_type": "code",
      "execution_count": 19,
      "metadata": {
        "id": "I2t6eODndp6Z",
        "colab": {
          "base_uri": "https://localhost:8080/"
        },
        "outputId": "a5eecef4-5d9e-4693-bd1b-5cf343820d30"
      },
      "outputs": [
        {
          "output_type": "stream",
          "name": "stdout",
          "text": [
            "{'rule_fmk5': ['https://rapidapi.com/cdn/images?url=https://rapidapi-prod-apis.s3.amazonaws.com/b6e657b9-2c11-4798-8465-b4c8d7e0de13.png', 'https://rapidapi.com/cdn/images?url=https://rapidapi-prod-apis.s3.amazonaws.com/c3736925-9c98-4fdc-857e-07c11146afb7.png', 'https://rapidapi.com/cdn/images?url=https://rapidapi-prod-apis.s3.amazonaws.com/c1fb79d1-84ab-43d7-9a0a-93bae7d54122.png', 'https://rapidapi.com/cdn/images?url=https://rapidapi-prod-apis.s3.amazonaws.com/17fe17d3-868d-4fdc-9ae7-1523fa2cb1a6.png', 'https://rapidapi.com/cdn/images?url=https://rapidapi-prod-apis.s3.amazonaws.com/2f2478f3-366e-4cfc-af2a-160fcd359ce0.png', 'https://rapidapi.com/cdn/images?url=https://s3.amazonaws.com/mashape-production-logos/apis/5b900012e4b01c1322c68237_medium', 'https://rapidapi.com/cdn/images?url=https://rapidapi-prod-apis.s3.amazonaws.com/c2a75616-6d6c-4a66-826d-0fbbc2762b92.png', 'https://rapidapi.com/cdn/images?url=https://rapidapi-prod-apis.s3.amazonaws.com/bb/e20cc2091d4963bb075d1dd957d65d/cbd156018162314e428642bcf4d0fd8a.png', 'https://rapidapi.com/cdn/images?url=https://rapidapi-prod-apis.s3.amazonaws.com/58ee5bd0-e893-4539-a764-8fd432e29e0e.png', 'https://rapidapi.com/cdn/images?url=https://rapidapi-prod-apis.s3.amazonaws.com/c9605c1d-2a8e-447f-b402-223b021be0ce.png', 'https://rapidapi.com/cdn/images?url=https://rapidapi-prod-apis.s3.amazonaws.com/53afacea-db08-418d-8ce1-28606c8bd5c4.png', 'https://rapidapi.com/cdn/images?url=https://rapidapi-prod-apis.s3.amazonaws.com/bf1840cc-eff8-41c8-94c1-e787ecaaa19a.jpg', 'https://rapidapi.com/cdn/images?url=https://rapidapi-prod-apis.s3.amazonaws.com/a871a4ec-83a7-4b61-a853-60b18cca171b.jpg', 'https://rapidapi.com/cdn/images?url=https://rapidapi-prod-apis.s3.amazonaws.com/86efcf31-d9ed-4e3c-80f4-2449eb032c72.png', 'https://rapidapi.com/cdn/images?url=https://rapidapi-prod-apis.s3.amazonaws.com/1e723a10-7569-4615-b598-5207a758ed67.png', 'https://rapidapi.com/cdn/images?url=https://rapidapi-prod-apis.s3.amazonaws.com/00bc3506-a014-48a0-be30-6665c7461fbc.png', 'https://rapidapi.com/cdn/images?url=https://rapidapi-prod-apis.s3.amazonaws.com/976c663f-f16b-40ec-8611-e4a990a1d247.png', 'https://rapidapi.com/cdn/images?url=https://rapidapi-prod-apis.s3.amazonaws.com/4c6fcdeb-22c1-4b40-8cb9-d60c1056d527.png', 'https://rapidapi.com/cdn/images?url=https://rapidapi-prod-apis.s3.amazonaws.com/355a5650-06d2-44b5-ac7f-836360bde033.png', 'https://rapidapi.com/cdn/images?url=https://rapidapi-prod-apis.s3.amazonaws.com/eef64350-3be7-4058-b3ce-c8e0694f4ab2.png', 'https://rapidapi.com/cdn/images?url=https://rapidapi-prod-apis.s3.amazonaws.com/37/c91865a38a44f793c265af618340a0/731f34b730f0ced443598bb6446d12e3.png', 'https://rapidapi.com/cdn/images?url=https://rapidapi-prod-apis.s3.amazonaws.com/a913ad5d-bbf8-446a-bfb0-bda7a2391906.png', 'https://rapidapi.com/cdn/images?url=https://rapidapi-prod-apis.s3.amazonaws.com/de244b5b-800c-43c9-93e1-bc759b4a4d9e.png', 'https://rapidapi.com/cdn/images?url=https://rapidapi-prod-apis.s3.amazonaws.com/6c60e51e-d25f-4fa4-93e9-017f781b3bfd.png'], 'rule_fp7u': ['Fast Neural Translation. Text/HTML/JSON. Protected keys. Multiple source texts and target languages in a single request. Free Translation API trial with paid plans as low as $0.3 per million characters. 90+ supported languages. For personalized integration support or private plans with higher quotas, contact [support@lecto.ai](mailto:%73%75%70%70%6f%72%74%40%6c%65%63%74%6f%2e%61%69) or via Telegram @lectoai . Also available via our website with attractive Translation API pricing at https://da...', 'A simple API for Cryptocurrency Prices - 28k+ users - Real-Time & Historical - Crypto Market Data - Coins - Exchanges - Free & Paid', 'Get high quality proxies for free, proxy list with your filters', 'Serpdog(https://serpdog.io) is a Google Search API that allows you to access Google Search Results in real time. It solves the problem of proxies and captchas for a smooth scraping journey. Serpdog supports results in both HTML and JSON format.\\nGet your free trial by registering at https://api.serpdog.io\\nIf you want to buy our plan, I recommend you to please visit https://serpdog.io/pricing for more information.', \"StreamlineWatch's streaming guide APIs for Movies and Shows\", 'IP Geolocation API allows developers to get geolocation information for a given IP address. Data points returned by this GeoIP API include city, state, province, country, continent, latitude, longitude, region, timezone, current time, organization, ISP, local currency, and country flags. This IP Location API can be used for content personalization, geotargeting, geofencing, ad targeting, digital rights management, form auto-completion, etc. With the free plan, you can make 15,000 IP lookup API calls per month. Paid plans are starting from $15 per month.', 'Real-time currency conversion on 152 currencies and cryptos', \"UGPROXY Service | Proxy List - Residential Proxy - Rotating IP's Proxy Service\", 'Google, Bing and Yahoo realtime SERP API', 'Search Engine data at scale. Uses city-level geo-targeting via residential proxies for targeted queries. Extract data such as organic results, paid results, related questions, top stories, people also ask, pagination, etc. in JSON format', 'Outsida provides a convenient API that show events happening in and around your city. You can now query events, venues, query for particular events or venues by name or id.', 'The most complete and cheap Fake Identity Generation API', 'DataForSEO Search Volume API provides keyword data based on Google AdWords.', 'Do you want to get paid for the rest of your life? This is your game! Introducing the latest winning numbers and the best statistics!', 'Do you want to get paid for the rest of your life? This is your game! Introducing the lastest winning numbers and the best statistics!', 'Fastest Word DOCX to PDF conversion tool (+30 more formats)! Try for free now!', 'The service keeps track of devices used by the users of your app (mobile or web) and allows you to limit the usage by each user to a small number of devices (default 5). This limitation can help reduce credential sharing on paid services.', 'Semantic search for quotes. Wondering which celebrities have said something similar? Look no more, this API gives you the power to search for quotes semantically from over 1M+ quotes. The Artificial Intelligence (NLP) engine behind the scene seeks to understand the meaning of your query rather than simply matching keywords. We allows user to flexibly filter the results by the length of the quote, and/or by a large variety of tags.', 'Our API identifies artificial or generative AI images, providing accurate detection to combat fake and misleading visuals. Using advanced algorithms, it analyzes and identifies unique patterns to offer an added layer of protection and verification for social media platforms, news organizations, and content creators.', 'Extract clean text and metadata from thousands of articles. Stop handling local libraries and let Extractor API take care of IP rotation, JavaScript rendering, retries and other headaches.Use the API or our online tool. Sign up now and get 1,000 requests free. Sign up here: https://extractorapi.com/extractor-api-pricing/', 'This is a paid service that will get you the ip geographical location information of your user. Just simply call the API for a pacific ip address and you will get the following information about your user: country, state, city, zip code, longitude, latitude, and timezone', 'Algo trading dashboard to backtest strategies with over 170 digital assets (crypto, forex, stocks) and 30 technical analysis strategies. Performance metrics, charts, and interactive visualizations available in real-time.', 'This API allows developers to easily convert webpages to high-quality PDFs. By sending a GET request to the API endpoint with the URL of the webpage, users can quickly and easily generate a PDF of the webpage in question. The API also allows for customization of the size of the generated PDF by passing width and height parameters in the query string. Additionally, the API sets the downloaded filename as the title of the website, providing a convenient and easily identifiable file.', 'The most complete, low-cost Google SERP API to power your SEO tools and services'], 'rule_e3ex': ['Lecto Translation', 'Coinranking', 'ProxyPage', 'Google Search 2', 'StreamlineWatch - Streaming Guide', 'IP Geolocation by ipgeolocation.io', 'CurrencyAPI.net', 'UGPROXY', 'SERPhouse', 'SERP', 'Outsida', 'Fake Identity Generator', 'DataForSEO Search Volume', 'Cash4Life', 'Lucky4Life', 'Fast PDF Conversion', 'Device Limiter', 'Semantic Quotes', 'GenerativeAi Image detection', 'Extractor', 'IP Address Tracker - PRO', 'WalnutTradingDash', 'HTML (website) to PDF', 'VALUE SERP']}\n"
          ]
        }
      ],
      "source": [
        "result=scraper.get_result_similar(api_url,grouped=True)\n",
        "print(result)"
      ]
    },
    {
      "cell_type": "code",
      "source": [
        "q = list(result.keys())"
      ],
      "metadata": {
        "id": "862142O0o3CF"
      },
      "execution_count": 24,
      "outputs": []
    },
    {
      "cell_type": "code",
      "source": [
        "m = {q[0]:\"Images\", q[2]:\"Title\",q[1]:\"Decription\"}"
      ],
      "metadata": {
        "id": "8uga_LCgrGs6"
      },
      "execution_count": 25,
      "outputs": []
    },
    {
      "cell_type": "code",
      "execution_count": 29,
      "metadata": {
        "id": "qTQuHccjeQ2F"
      },
      "outputs": [],
      "source": [
        "scraper.set_rule_aliases(m)\n",
        "scraper.keep_rules(list(m.values()))\n",
        "scraper.save('api-search')\n"
      ]
    },
    {
      "cell_type": "code",
      "source": [
        "result"
      ],
      "metadata": {
        "colab": {
          "base_uri": "https://localhost:8080/"
        },
        "id": "RuQfRqqWswS6",
        "outputId": "66690f90-c7d8-406e-ca26-1bf305e30453"
      },
      "execution_count": 31,
      "outputs": [
        {
          "output_type": "execute_result",
          "data": {
            "text/plain": [
              "{'rule_fmk5': ['https://rapidapi.com/cdn/images?url=https://rapidapi-prod-apis.s3.amazonaws.com/b6e657b9-2c11-4798-8465-b4c8d7e0de13.png',\n",
              "  'https://rapidapi.com/cdn/images?url=https://rapidapi-prod-apis.s3.amazonaws.com/c3736925-9c98-4fdc-857e-07c11146afb7.png',\n",
              "  'https://rapidapi.com/cdn/images?url=https://rapidapi-prod-apis.s3.amazonaws.com/c1fb79d1-84ab-43d7-9a0a-93bae7d54122.png',\n",
              "  'https://rapidapi.com/cdn/images?url=https://rapidapi-prod-apis.s3.amazonaws.com/17fe17d3-868d-4fdc-9ae7-1523fa2cb1a6.png',\n",
              "  'https://rapidapi.com/cdn/images?url=https://rapidapi-prod-apis.s3.amazonaws.com/2f2478f3-366e-4cfc-af2a-160fcd359ce0.png',\n",
              "  'https://rapidapi.com/cdn/images?url=https://s3.amazonaws.com/mashape-production-logos/apis/5b900012e4b01c1322c68237_medium',\n",
              "  'https://rapidapi.com/cdn/images?url=https://rapidapi-prod-apis.s3.amazonaws.com/c2a75616-6d6c-4a66-826d-0fbbc2762b92.png',\n",
              "  'https://rapidapi.com/cdn/images?url=https://rapidapi-prod-apis.s3.amazonaws.com/bb/e20cc2091d4963bb075d1dd957d65d/cbd156018162314e428642bcf4d0fd8a.png',\n",
              "  'https://rapidapi.com/cdn/images?url=https://rapidapi-prod-apis.s3.amazonaws.com/58ee5bd0-e893-4539-a764-8fd432e29e0e.png',\n",
              "  'https://rapidapi.com/cdn/images?url=https://rapidapi-prod-apis.s3.amazonaws.com/c9605c1d-2a8e-447f-b402-223b021be0ce.png',\n",
              "  'https://rapidapi.com/cdn/images?url=https://rapidapi-prod-apis.s3.amazonaws.com/53afacea-db08-418d-8ce1-28606c8bd5c4.png',\n",
              "  'https://rapidapi.com/cdn/images?url=https://rapidapi-prod-apis.s3.amazonaws.com/bf1840cc-eff8-41c8-94c1-e787ecaaa19a.jpg',\n",
              "  'https://rapidapi.com/cdn/images?url=https://rapidapi-prod-apis.s3.amazonaws.com/a871a4ec-83a7-4b61-a853-60b18cca171b.jpg',\n",
              "  'https://rapidapi.com/cdn/images?url=https://rapidapi-prod-apis.s3.amazonaws.com/86efcf31-d9ed-4e3c-80f4-2449eb032c72.png',\n",
              "  'https://rapidapi.com/cdn/images?url=https://rapidapi-prod-apis.s3.amazonaws.com/1e723a10-7569-4615-b598-5207a758ed67.png',\n",
              "  'https://rapidapi.com/cdn/images?url=https://rapidapi-prod-apis.s3.amazonaws.com/00bc3506-a014-48a0-be30-6665c7461fbc.png',\n",
              "  'https://rapidapi.com/cdn/images?url=https://rapidapi-prod-apis.s3.amazonaws.com/976c663f-f16b-40ec-8611-e4a990a1d247.png',\n",
              "  'https://rapidapi.com/cdn/images?url=https://rapidapi-prod-apis.s3.amazonaws.com/4c6fcdeb-22c1-4b40-8cb9-d60c1056d527.png',\n",
              "  'https://rapidapi.com/cdn/images?url=https://rapidapi-prod-apis.s3.amazonaws.com/355a5650-06d2-44b5-ac7f-836360bde033.png',\n",
              "  'https://rapidapi.com/cdn/images?url=https://rapidapi-prod-apis.s3.amazonaws.com/eef64350-3be7-4058-b3ce-c8e0694f4ab2.png',\n",
              "  'https://rapidapi.com/cdn/images?url=https://rapidapi-prod-apis.s3.amazonaws.com/37/c91865a38a44f793c265af618340a0/731f34b730f0ced443598bb6446d12e3.png',\n",
              "  'https://rapidapi.com/cdn/images?url=https://rapidapi-prod-apis.s3.amazonaws.com/a913ad5d-bbf8-446a-bfb0-bda7a2391906.png',\n",
              "  'https://rapidapi.com/cdn/images?url=https://rapidapi-prod-apis.s3.amazonaws.com/de244b5b-800c-43c9-93e1-bc759b4a4d9e.png',\n",
              "  'https://rapidapi.com/cdn/images?url=https://rapidapi-prod-apis.s3.amazonaws.com/6c60e51e-d25f-4fa4-93e9-017f781b3bfd.png'],\n",
              " 'rule_fp7u': ['Fast Neural Translation. Text/HTML/JSON. Protected keys. Multiple source texts and target languages in a single request. Free Translation API trial with paid plans as low as $0.3 per million characters. 90+ supported languages. For personalized integration support or private plans with higher quotas, contact [support@lecto.ai](mailto:%73%75%70%70%6f%72%74%40%6c%65%63%74%6f%2e%61%69) or via Telegram @lectoai . Also available via our website with attractive Translation API pricing at https://da...',\n",
              "  'A simple API for Cryptocurrency Prices - 28k+ users - Real-Time & Historical - Crypto Market Data - Coins - Exchanges - Free & Paid',\n",
              "  'Get high quality proxies for free, proxy list with your filters',\n",
              "  'Serpdog(https://serpdog.io) is a Google Search API that allows you to access Google Search Results in real time. It solves the problem of proxies and captchas for a smooth scraping journey. Serpdog supports results in both HTML and JSON format.\\nGet your free trial by registering at https://api.serpdog.io\\nIf you want to buy our plan, I recommend you to please visit https://serpdog.io/pricing for more information.',\n",
              "  \"StreamlineWatch's streaming guide APIs for Movies and Shows\",\n",
              "  'IP Geolocation API allows developers to get geolocation information for a given IP address. Data points returned by this GeoIP API include city, state, province, country, continent, latitude, longitude, region, timezone, current time, organization, ISP, local currency, and country flags. This IP Location API can be used for content personalization, geotargeting, geofencing, ad targeting, digital rights management, form auto-completion, etc. With the free plan, you can make 15,000 IP lookup API calls per month. Paid plans are starting from $15 per month.',\n",
              "  'Real-time currency conversion on 152 currencies and cryptos',\n",
              "  \"UGPROXY Service | Proxy List - Residential Proxy - Rotating IP's Proxy Service\",\n",
              "  'Google, Bing and Yahoo realtime SERP API',\n",
              "  'Search Engine data at scale. Uses city-level geo-targeting via residential proxies for targeted queries. Extract data such as organic results, paid results, related questions, top stories, people also ask, pagination, etc. in JSON format',\n",
              "  'Outsida provides a convenient API that show events happening in and around your city. You can now query events, venues, query for particular events or venues by name or id.',\n",
              "  'The most complete and cheap Fake Identity Generation API',\n",
              "  'DataForSEO Search Volume API provides keyword data based on Google AdWords.',\n",
              "  'Do you want to get paid for the rest of your life? This is your game! Introducing the latest winning numbers and the best statistics!',\n",
              "  'Do you want to get paid for the rest of your life? This is your game! Introducing the lastest winning numbers and the best statistics!',\n",
              "  'Fastest Word DOCX to PDF conversion tool (+30 more formats)! Try for free now!',\n",
              "  'The service keeps track of devices used by the users of your app (mobile or web) and allows you to limit the usage by each user to a small number of devices (default 5). This limitation can help reduce credential sharing on paid services.',\n",
              "  'Semantic search for quotes. Wondering which celebrities have said something similar? Look no more, this API gives you the power to search for quotes semantically from over 1M+ quotes. The Artificial Intelligence (NLP) engine behind the scene seeks to understand the meaning of your query rather than simply matching keywords. We allows user to flexibly filter the results by the length of the quote, and/or by a large variety of tags.',\n",
              "  'Our API identifies artificial or generative AI images, providing accurate detection to combat fake and misleading visuals. Using advanced algorithms, it analyzes and identifies unique patterns to offer an added layer of protection and verification for social media platforms, news organizations, and content creators.',\n",
              "  'Extract clean text and metadata from thousands of articles. Stop handling local libraries and let Extractor API take care of IP rotation, JavaScript rendering, retries and other headaches.Use the API or our online tool. Sign up now and get 1,000 requests free. Sign up here: https://extractorapi.com/extractor-api-pricing/',\n",
              "  'This is a paid service that will get you the ip geographical location information of your user. Just simply call the API for a pacific ip address and you will get the following information about your user: country, state, city, zip code, longitude, latitude, and timezone',\n",
              "  'Algo trading dashboard to backtest strategies with over 170 digital assets (crypto, forex, stocks) and 30 technical analysis strategies. Performance metrics, charts, and interactive visualizations available in real-time.',\n",
              "  'This API allows developers to easily convert webpages to high-quality PDFs. By sending a GET request to the API endpoint with the URL of the webpage, users can quickly and easily generate a PDF of the webpage in question. The API also allows for customization of the size of the generated PDF by passing width and height parameters in the query string. Additionally, the API sets the downloaded filename as the title of the website, providing a convenient and easily identifiable file.',\n",
              "  'The most complete, low-cost Google SERP API to power your SEO tools and services'],\n",
              " 'rule_e3ex': ['Lecto Translation',\n",
              "  'Coinranking',\n",
              "  'ProxyPage',\n",
              "  'Google Search 2',\n",
              "  'StreamlineWatch - Streaming Guide',\n",
              "  'IP Geolocation by ipgeolocation.io',\n",
              "  'CurrencyAPI.net',\n",
              "  'UGPROXY',\n",
              "  'SERPhouse',\n",
              "  'SERP',\n",
              "  'Outsida',\n",
              "  'Fake Identity Generator',\n",
              "  'DataForSEO Search Volume',\n",
              "  'Cash4Life',\n",
              "  'Lucky4Life',\n",
              "  'Fast PDF Conversion',\n",
              "  'Device Limiter',\n",
              "  'Semantic Quotes',\n",
              "  'GenerativeAi Image detection',\n",
              "  'Extractor',\n",
              "  'IP Address Tracker - PRO',\n",
              "  'WalnutTradingDash',\n",
              "  'HTML (website) to PDF',\n",
              "  'VALUE SERP']}"
            ]
          },
          "metadata": {},
          "execution_count": 31
        }
      ]
    },
    {
      "cell_type": "code",
      "execution_count": 30,
      "metadata": {
        "id": "aV9qtLArhpPa"
      },
      "outputs": [],
      "source": [
        "import pandas as pd\n",
        "df = pd.DataFrame(result)\n",
        "df.to_csv('my_file.csv', index=False, header=True)"
      ]
    }
  ],
  "metadata": {
    "colab": {
      "provenance": [],
      "include_colab_link": true
    },
    "kernelspec": {
      "display_name": "Python 3",
      "language": "python",
      "name": "python3"
    },
    "language_info": {
      "codemirror_mode": {
        "name": "ipython",
        "version": 3
      },
      "file_extension": ".py",
      "mimetype": "text/x-python",
      "name": "python",
      "nbconvert_exporter": "python",
      "pygments_lexer": "ipython3",
      "version": "3.11.2"
    },
    "vscode": {
      "interpreter": {
        "hash": "b91f41160b83ffc59c7e17fa6fd02d637d5dcf1d5e59aa2db87d82178661b954"
      }
    }
  },
  "nbformat": 4,
  "nbformat_minor": 0
}